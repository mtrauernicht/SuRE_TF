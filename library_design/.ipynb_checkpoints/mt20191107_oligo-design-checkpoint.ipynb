{
 "cells": [
  {
   "cell_type": "markdown",
   "metadata": {},
   "source": [
    "# Build oligo library design from scratch\n",
    "The aim of this code is to create a TF reporter oligo library from scratch. A selection of ~30 TFs is made, and for these TFs oligos will be designed, which each have TF binding sites in front of a minimal promoter and a unique barcode in the transcription unit. Various parameters will be explored in the design to optimize the design of the TF reporters. "
   ]
  },
  {
   "cell_type": "code",
   "execution_count": null,
   "metadata": {},
   "outputs": [],
   "source": [
    "## Import libraries\n",
    "import os\n",
    "import sys\n",
    "sys.path.append('/DATA/usr/m.trauernicht/software/')\n",
    "!conda install pandas -y\n",
    "import pandas as pd\n",
    "\n",
    "from functools import reduce"
   ]
  },
  {
   "cell_type": "code",
   "execution_count": 2,
   "metadata": {},
   "outputs": [
    {
     "ename": "FileNotFoundError",
     "evalue": "[Errno 2] No such file or directory: '/DATA/usr/m.trauernicht/projects/TFreporter/Oligo_Design/'",
     "output_type": "error",
     "traceback": [
      "\u001b[0;31m---------------------------------------------------------------------------\u001b[0m",
      "\u001b[0;31mFileNotFoundError\u001b[0m                         Traceback (most recent call last)",
      "\u001b[0;32m<ipython-input-2-6096dcb03e04>\u001b[0m in \u001b[0;36m<module>\u001b[0;34m\u001b[0m\n\u001b[1;32m      1\u001b[0m \u001b[0;31m## Import parameters to build DF\u001b[0m\u001b[0;34m\u001b[0m\u001b[0;34m\u001b[0m\u001b[0;34m\u001b[0m\u001b[0m\n\u001b[0;32m----> 2\u001b[0;31m \u001b[0mos\u001b[0m\u001b[0;34m.\u001b[0m\u001b[0mchdir\u001b[0m\u001b[0;34m(\u001b[0m\u001b[0;34m\"/DATA/usr/m.trauernicht/projects/TFreporter/Oligo_Design/\"\u001b[0m\u001b[0;34m)\u001b[0m\u001b[0;34m\u001b[0m\u001b[0;34m\u001b[0m\u001b[0m\n\u001b[0m\u001b[1;32m      3\u001b[0m \u001b[0mtf_df\u001b[0m \u001b[0;34m=\u001b[0m \u001b[0mpd\u001b[0m\u001b[0;34m.\u001b[0m\u001b[0mread_csv\u001b[0m\u001b[0;34m(\u001b[0m\u001b[0;34m\"TF_motifs.csv\"\u001b[0m\u001b[0;34m,\u001b[0m \u001b[0msep\u001b[0m\u001b[0;34m=\u001b[0m\u001b[0;34m';'\u001b[0m\u001b[0;34m)\u001b[0m\u001b[0;34m\u001b[0m\u001b[0;34m\u001b[0m\u001b[0m\n\u001b[1;32m      4\u001b[0m \u001b[0mbarcodes\u001b[0m \u001b[0;34m=\u001b[0m \u001b[0mpd\u001b[0m\u001b[0;34m.\u001b[0m\u001b[0mread_csv\u001b[0m\u001b[0;34m(\u001b[0m\u001b[0;34m\"Barcode.csv\"\u001b[0m\u001b[0;34m)\u001b[0m\u001b[0;34m\u001b[0m\u001b[0;34m\u001b[0m\u001b[0m\n\u001b[1;32m      5\u001b[0m \u001b[0mdistance\u001b[0m \u001b[0;34m=\u001b[0m \u001b[0mpd\u001b[0m\u001b[0;34m.\u001b[0m\u001b[0mread_csv\u001b[0m\u001b[0;34m(\u001b[0m\u001b[0;34m\"Distance.csv\"\u001b[0m\u001b[0;34m)\u001b[0m\u001b[0;34m\u001b[0m\u001b[0;34m\u001b[0m\u001b[0m\n",
      "\u001b[0;31mFileNotFoundError\u001b[0m: [Errno 2] No such file or directory: '/DATA/usr/m.trauernicht/projects/TFreporter/Oligo_Design/'"
     ]
    }
   ],
   "source": [
    "## Import parameters to build DF\n",
    "os.chdir(\"/DATA/usr/m.trauernicht/projects/TFreporter/Oligo_Design/\")\n",
    "tf_df = pd.read_csv(\"TF_motifs.csv\", sep=';')\n",
    "barcodes = pd.read_csv(\"Barcode.csv\")\n",
    "distance = pd.read_csv(\"Distance.csv\")\n",
    "promoters = pd.read_csv(\"Promoter.csv\")\n",
    "spacings = pd.read_csv(\"Spacing.csv\")"
   ]
  },
  {
   "cell_type": "code",
   "execution_count": 43,
   "metadata": {},
   "outputs": [
    {
     "data": {
      "text/html": [
       "<div>\n",
       "<style scoped>\n",
       "    .dataframe tbody tr th:only-of-type {\n",
       "        vertical-align: middle;\n",
       "    }\n",
       "\n",
       "    .dataframe tbody tr th {\n",
       "        vertical-align: top;\n",
       "    }\n",
       "\n",
       "    .dataframe thead th {\n",
       "        text-align: right;\n",
       "    }\n",
       "</style>\n",
       "<table border=\"1\" class=\"dataframe\">\n",
       "  <thead>\n",
       "    <tr style=\"text-align: right;\">\n",
       "      <th></th>\n",
       "      <th>TF</th>\n",
       "      <th>Motif</th>\n",
       "      <th>Barcode</th>\n",
       "      <th>Distance</th>\n",
       "      <th>Promoter</th>\n",
       "      <th>Spacing</th>\n",
       "    </tr>\n",
       "  </thead>\n",
       "  <tbody>\n",
       "    <tr>\n",
       "      <th>0</th>\n",
       "      <td>Stat3</td>\n",
       "      <td>TTCCCGGAA</td>\n",
       "      <td>1</td>\n",
       "      <td>10bp</td>\n",
       "      <td>minP</td>\n",
       "      <td>5bp</td>\n",
       "    </tr>\n",
       "    <tr>\n",
       "      <th>1</th>\n",
       "      <td>Stat3</td>\n",
       "      <td>TTCCCGGAA</td>\n",
       "      <td>1</td>\n",
       "      <td>10bp</td>\n",
       "      <td>minP</td>\n",
       "      <td>10bp</td>\n",
       "    </tr>\n",
       "    <tr>\n",
       "      <th>2</th>\n",
       "      <td>Stat3</td>\n",
       "      <td>TTCCCGGAA</td>\n",
       "      <td>1</td>\n",
       "      <td>10bp</td>\n",
       "      <td>minP</td>\n",
       "      <td>21bp</td>\n",
       "    </tr>\n",
       "    <tr>\n",
       "      <th>3</th>\n",
       "      <td>Stat3</td>\n",
       "      <td>TTCCCGGAA</td>\n",
       "      <td>1</td>\n",
       "      <td>10bp</td>\n",
       "      <td>hBGm</td>\n",
       "      <td>5bp</td>\n",
       "    </tr>\n",
       "    <tr>\n",
       "      <th>4</th>\n",
       "      <td>Stat3</td>\n",
       "      <td>TTCCCGGAA</td>\n",
       "      <td>1</td>\n",
       "      <td>10bp</td>\n",
       "      <td>hBGm</td>\n",
       "      <td>10bp</td>\n",
       "    </tr>\n",
       "    <tr>\n",
       "      <th>...</th>\n",
       "      <td>...</td>\n",
       "      <td>...</td>\n",
       "      <td>...</td>\n",
       "      <td>...</td>\n",
       "      <td>...</td>\n",
       "      <td>...</td>\n",
       "    </tr>\n",
       "    <tr>\n",
       "      <th>4990</th>\n",
       "      <td>Atf3</td>\n",
       "      <td>GATGACGT</td>\n",
       "      <td>5</td>\n",
       "      <td>21bp+AA</td>\n",
       "      <td>hBGm</td>\n",
       "      <td>10bp</td>\n",
       "    </tr>\n",
       "    <tr>\n",
       "      <th>4991</th>\n",
       "      <td>Atf3</td>\n",
       "      <td>GATGACGT</td>\n",
       "      <td>5</td>\n",
       "      <td>21bp+AA</td>\n",
       "      <td>hBGm</td>\n",
       "      <td>21bp</td>\n",
       "    </tr>\n",
       "    <tr>\n",
       "      <th>4992</th>\n",
       "      <td>Atf3</td>\n",
       "      <td>GATGACGT</td>\n",
       "      <td>5</td>\n",
       "      <td>21bp+AA</td>\n",
       "      <td>mCMV</td>\n",
       "      <td>5bp</td>\n",
       "    </tr>\n",
       "    <tr>\n",
       "      <th>4993</th>\n",
       "      <td>Atf3</td>\n",
       "      <td>GATGACGT</td>\n",
       "      <td>5</td>\n",
       "      <td>21bp+AA</td>\n",
       "      <td>mCMV</td>\n",
       "      <td>10bp</td>\n",
       "    </tr>\n",
       "    <tr>\n",
       "      <th>4994</th>\n",
       "      <td>Atf3</td>\n",
       "      <td>GATGACGT</td>\n",
       "      <td>5</td>\n",
       "      <td>21bp+AA</td>\n",
       "      <td>mCMV</td>\n",
       "      <td>21bp</td>\n",
       "    </tr>\n",
       "  </tbody>\n",
       "</table>\n",
       "<p>4995 rows × 6 columns</p>\n",
       "</div>"
      ],
      "text/plain": [
       "         TF      Motif  Barcode Distance Promoter Spacing\n",
       "0     Stat3  TTCCCGGAA        1     10bp     minP     5bp\n",
       "1     Stat3  TTCCCGGAA        1     10bp     minP    10bp\n",
       "2     Stat3  TTCCCGGAA        1     10bp     minP    21bp\n",
       "3     Stat3  TTCCCGGAA        1     10bp     hBGm     5bp\n",
       "4     Stat3  TTCCCGGAA        1     10bp     hBGm    10bp\n",
       "...     ...        ...      ...      ...      ...     ...\n",
       "4990   Atf3   GATGACGT        5  21bp+AA     hBGm    10bp\n",
       "4991   Atf3   GATGACGT        5  21bp+AA     hBGm    21bp\n",
       "4992   Atf3   GATGACGT        5  21bp+AA     mCMV     5bp\n",
       "4993   Atf3   GATGACGT        5  21bp+AA     mCMV    10bp\n",
       "4994   Atf3   GATGACGT        5  21bp+AA     mCMV    21bp\n",
       "\n",
       "[4995 rows x 6 columns]"
      ]
     },
     "execution_count": 43,
     "metadata": {},
     "output_type": "execute_result"
    }
   ],
   "source": [
    "## Merge all parameters to create large DF \n",
    "tf_df['tmp'] = 1\n",
    "barcodes['tmp'] = 1\n",
    "spacings['tmp'] = 1\n",
    "distance['tmp'] = 1\n",
    "promoters['tmp'] = 1\n",
    "tf_dfs = [tf_df, barcodes, distance, promoters, spacings]\n",
    "tf_df_all = reduce(lambda left,right: \n",
    "                   pd.merge(left,right,on = ['tmp']), tf_dfs)\n",
    "del tf_df_all['tmp']\n",
    "\n",
    "# pd.display.options.XX = value\n",
    "tf_df_all"
   ]
  },
  {
   "cell_type": "code",
   "execution_count": 44,
   "metadata": {},
   "outputs": [],
   "source": [
    "# Background sequence (bg41 from Davis et al. 2019) - used for spacing, distance & primer adapters\n",
    "background = \"TGTTCAGAAGGGCCAGACAATGCCAAGGACTCAGGGGAGGAGAATTAAGTCAGAGAGTTTCATTACTGAGTGTTGTTTGACTTTGTTGTCACGGATTCATTTAACCATCTCTCTACCATGGTAAAAATGTGTATCCTATGTCCAGTATGAA\""
   ]
  },
  {
   "cell_type": "code",
   "execution_count": 60,
   "metadata": {},
   "outputs": [
    {
     "ename": "KeyError",
     "evalue": "'space1'",
     "output_type": "error",
     "traceback": [
      "\u001b[0;31m---------------------------------------------------------------------------\u001b[0m",
      "\u001b[0;31mKeyError\u001b[0m                                  Traceback (most recent call last)",
      "\u001b[0;32m/DATA/usr/m.trauernicht/miniconda3/envs/jupyter/lib/python3.7/site-packages/pandas/core/indexes/base.py\u001b[0m in \u001b[0;36mget_loc\u001b[0;34m(self, key, method, tolerance)\u001b[0m\n\u001b[1;32m   2896\u001b[0m             \u001b[0;32mtry\u001b[0m\u001b[0;34m:\u001b[0m\u001b[0;34m\u001b[0m\u001b[0;34m\u001b[0m\u001b[0m\n\u001b[0;32m-> 2897\u001b[0;31m                 \u001b[0;32mreturn\u001b[0m \u001b[0mself\u001b[0m\u001b[0;34m.\u001b[0m\u001b[0m_engine\u001b[0m\u001b[0;34m.\u001b[0m\u001b[0mget_loc\u001b[0m\u001b[0;34m(\u001b[0m\u001b[0mkey\u001b[0m\u001b[0;34m)\u001b[0m\u001b[0;34m\u001b[0m\u001b[0;34m\u001b[0m\u001b[0m\n\u001b[0m\u001b[1;32m   2898\u001b[0m             \u001b[0;32mexcept\u001b[0m \u001b[0mKeyError\u001b[0m\u001b[0;34m:\u001b[0m\u001b[0;34m\u001b[0m\u001b[0;34m\u001b[0m\u001b[0m\n",
      "\u001b[0;32mpandas/_libs/index.pyx\u001b[0m in \u001b[0;36mpandas._libs.index.IndexEngine.get_loc\u001b[0;34m()\u001b[0m\n",
      "\u001b[0;32mpandas/_libs/index.pyx\u001b[0m in \u001b[0;36mpandas._libs.index.IndexEngine.get_loc\u001b[0;34m()\u001b[0m\n",
      "\u001b[0;32mpandas/_libs/hashtable_class_helper.pxi\u001b[0m in \u001b[0;36mpandas._libs.hashtable.PyObjectHashTable.get_item\u001b[0;34m()\u001b[0m\n",
      "\u001b[0;32mpandas/_libs/hashtable_class_helper.pxi\u001b[0m in \u001b[0;36mpandas._libs.hashtable.PyObjectHashTable.get_item\u001b[0;34m()\u001b[0m\n",
      "\u001b[0;31mKeyError\u001b[0m: 'space1'",
      "\nDuring handling of the above exception, another exception occurred:\n",
      "\u001b[0;31mKeyError\u001b[0m                                  Traceback (most recent call last)",
      "\u001b[0;32m<ipython-input-60-593985d03359>\u001b[0m in \u001b[0;36m<module>\u001b[0;34m\u001b[0m\n\u001b[1;32m      8\u001b[0m \u001b[0;34m\u001b[0m\u001b[0m\n\u001b[1;32m      9\u001b[0m \u001b[0;31m# Spacer sequence between TF motifs (5, 10, 21 bp)\u001b[0m\u001b[0;34m\u001b[0m\u001b[0;34m\u001b[0m\u001b[0;34m\u001b[0m\u001b[0m\n\u001b[0;32m---> 10\u001b[0;31m \u001b[0mtf_df_all\u001b[0m\u001b[0;34m[\u001b[0m\u001b[0;34m'space1'\u001b[0m\u001b[0;34m]\u001b[0m\u001b[0;34m[\u001b[0m\u001b[0mtf_df_all\u001b[0m\u001b[0;34m.\u001b[0m\u001b[0mspacings\u001b[0m \u001b[0;34m==\u001b[0m \u001b[0;34m'5bp'\u001b[0m\u001b[0;34m]\u001b[0m \u001b[0;34m=\u001b[0m \u001b[0;34m'GC'\u001b[0m \u001b[0;34m+\u001b[0m \u001b[0mbackground\u001b[0m\u001b[0;34m[\u001b[0m\u001b[0;36m18\u001b[0m\u001b[0;34m]\u001b[0m\u001b[0;34m,\u001b[0m \u001b[0;34m'AT'\u001b[0m\u001b[0;34m\u001b[0m\u001b[0;34m\u001b[0m\u001b[0m\n\u001b[0m\u001b[1;32m     11\u001b[0m \u001b[0mtf_df_all\u001b[0m\u001b[0;34m[\u001b[0m\u001b[0;34m'space2'\u001b[0m\u001b[0;34m]\u001b[0m\u001b[0;34m[\u001b[0m\u001b[0mtf_df_all\u001b[0m\u001b[0;34m.\u001b[0m\u001b[0mspacings\u001b[0m \u001b[0;34m==\u001b[0m \u001b[0;34m'5bp'\u001b[0m\u001b[0;34m]\u001b[0m \u001b[0;34m=\u001b[0m \u001b[0;34m'GC'\u001b[0m \u001b[0;34m+\u001b[0m \u001b[0mbackground\u001b[0m\u001b[0;34m[\u001b[0m\u001b[0;36m18\u001b[0m\u001b[0;34m:\u001b[0m\u001b[0;36m23\u001b[0m\u001b[0;34m]\u001b[0m\u001b[0;34m,\u001b[0m \u001b[0;34m'AT'\u001b[0m\u001b[0;34m\u001b[0m\u001b[0;34m\u001b[0m\u001b[0m\n\u001b[1;32m     12\u001b[0m \u001b[0mtf_df_all\u001b[0m\u001b[0;34m[\u001b[0m\u001b[0;34m'space3'\u001b[0m\u001b[0;34m]\u001b[0m\u001b[0;34m[\u001b[0m\u001b[0mtf_df_all\u001b[0m\u001b[0;34m.\u001b[0m\u001b[0mspacings\u001b[0m \u001b[0;34m==\u001b[0m \u001b[0;34m'5bp'\u001b[0m\u001b[0;34m]\u001b[0m \u001b[0;34m=\u001b[0m \u001b[0;34m'GC'\u001b[0m \u001b[0;34m+\u001b[0m \u001b[0mbackground\u001b[0m\u001b[0;34m[\u001b[0m\u001b[0;36m18\u001b[0m\u001b[0;34m:\u001b[0m\u001b[0;36m34\u001b[0m\u001b[0;34m]\u001b[0m\u001b[0;34m,\u001b[0m \u001b[0;34m'AT'\u001b[0m\u001b[0;34m\u001b[0m\u001b[0;34m\u001b[0m\u001b[0m\n",
      "\u001b[0;32m/DATA/usr/m.trauernicht/miniconda3/envs/jupyter/lib/python3.7/site-packages/pandas/core/frame.py\u001b[0m in \u001b[0;36m__getitem__\u001b[0;34m(self, key)\u001b[0m\n\u001b[1;32m   2993\u001b[0m             \u001b[0;32mif\u001b[0m \u001b[0mself\u001b[0m\u001b[0;34m.\u001b[0m\u001b[0mcolumns\u001b[0m\u001b[0;34m.\u001b[0m\u001b[0mnlevels\u001b[0m \u001b[0;34m>\u001b[0m \u001b[0;36m1\u001b[0m\u001b[0;34m:\u001b[0m\u001b[0;34m\u001b[0m\u001b[0;34m\u001b[0m\u001b[0m\n\u001b[1;32m   2994\u001b[0m                 \u001b[0;32mreturn\u001b[0m \u001b[0mself\u001b[0m\u001b[0;34m.\u001b[0m\u001b[0m_getitem_multilevel\u001b[0m\u001b[0;34m(\u001b[0m\u001b[0mkey\u001b[0m\u001b[0;34m)\u001b[0m\u001b[0;34m\u001b[0m\u001b[0;34m\u001b[0m\u001b[0m\n\u001b[0;32m-> 2995\u001b[0;31m             \u001b[0mindexer\u001b[0m \u001b[0;34m=\u001b[0m \u001b[0mself\u001b[0m\u001b[0;34m.\u001b[0m\u001b[0mcolumns\u001b[0m\u001b[0;34m.\u001b[0m\u001b[0mget_loc\u001b[0m\u001b[0;34m(\u001b[0m\u001b[0mkey\u001b[0m\u001b[0;34m)\u001b[0m\u001b[0;34m\u001b[0m\u001b[0;34m\u001b[0m\u001b[0m\n\u001b[0m\u001b[1;32m   2996\u001b[0m             \u001b[0;32mif\u001b[0m \u001b[0mis_integer\u001b[0m\u001b[0;34m(\u001b[0m\u001b[0mindexer\u001b[0m\u001b[0;34m)\u001b[0m\u001b[0;34m:\u001b[0m\u001b[0;34m\u001b[0m\u001b[0;34m\u001b[0m\u001b[0m\n\u001b[1;32m   2997\u001b[0m                 \u001b[0mindexer\u001b[0m \u001b[0;34m=\u001b[0m \u001b[0;34m[\u001b[0m\u001b[0mindexer\u001b[0m\u001b[0;34m]\u001b[0m\u001b[0;34m\u001b[0m\u001b[0;34m\u001b[0m\u001b[0m\n",
      "\u001b[0;32m/DATA/usr/m.trauernicht/miniconda3/envs/jupyter/lib/python3.7/site-packages/pandas/core/indexes/base.py\u001b[0m in \u001b[0;36mget_loc\u001b[0;34m(self, key, method, tolerance)\u001b[0m\n\u001b[1;32m   2897\u001b[0m                 \u001b[0;32mreturn\u001b[0m \u001b[0mself\u001b[0m\u001b[0;34m.\u001b[0m\u001b[0m_engine\u001b[0m\u001b[0;34m.\u001b[0m\u001b[0mget_loc\u001b[0m\u001b[0;34m(\u001b[0m\u001b[0mkey\u001b[0m\u001b[0;34m)\u001b[0m\u001b[0;34m\u001b[0m\u001b[0;34m\u001b[0m\u001b[0m\n\u001b[1;32m   2898\u001b[0m             \u001b[0;32mexcept\u001b[0m \u001b[0mKeyError\u001b[0m\u001b[0;34m:\u001b[0m\u001b[0;34m\u001b[0m\u001b[0;34m\u001b[0m\u001b[0m\n\u001b[0;32m-> 2899\u001b[0;31m                 \u001b[0;32mreturn\u001b[0m \u001b[0mself\u001b[0m\u001b[0;34m.\u001b[0m\u001b[0m_engine\u001b[0m\u001b[0;34m.\u001b[0m\u001b[0mget_loc\u001b[0m\u001b[0;34m(\u001b[0m\u001b[0mself\u001b[0m\u001b[0;34m.\u001b[0m\u001b[0m_maybe_cast_indexer\u001b[0m\u001b[0;34m(\u001b[0m\u001b[0mkey\u001b[0m\u001b[0;34m)\u001b[0m\u001b[0;34m)\u001b[0m\u001b[0;34m\u001b[0m\u001b[0;34m\u001b[0m\u001b[0m\n\u001b[0m\u001b[1;32m   2900\u001b[0m         \u001b[0mindexer\u001b[0m \u001b[0;34m=\u001b[0m \u001b[0mself\u001b[0m\u001b[0;34m.\u001b[0m\u001b[0mget_indexer\u001b[0m\u001b[0;34m(\u001b[0m\u001b[0;34m[\u001b[0m\u001b[0mkey\u001b[0m\u001b[0;34m]\u001b[0m\u001b[0;34m,\u001b[0m \u001b[0mmethod\u001b[0m\u001b[0;34m=\u001b[0m\u001b[0mmethod\u001b[0m\u001b[0;34m,\u001b[0m \u001b[0mtolerance\u001b[0m\u001b[0;34m=\u001b[0m\u001b[0mtolerance\u001b[0m\u001b[0;34m)\u001b[0m\u001b[0;34m\u001b[0m\u001b[0;34m\u001b[0m\u001b[0m\n\u001b[1;32m   2901\u001b[0m         \u001b[0;32mif\u001b[0m \u001b[0mindexer\u001b[0m\u001b[0;34m.\u001b[0m\u001b[0mndim\u001b[0m \u001b[0;34m>\u001b[0m \u001b[0;36m1\u001b[0m \u001b[0;32mor\u001b[0m \u001b[0mindexer\u001b[0m\u001b[0;34m.\u001b[0m\u001b[0msize\u001b[0m \u001b[0;34m>\u001b[0m \u001b[0;36m1\u001b[0m\u001b[0;34m:\u001b[0m\u001b[0;34m\u001b[0m\u001b[0;34m\u001b[0m\u001b[0m\n",
      "\u001b[0;32mpandas/_libs/index.pyx\u001b[0m in \u001b[0;36mpandas._libs.index.IndexEngine.get_loc\u001b[0;34m()\u001b[0m\n",
      "\u001b[0;32mpandas/_libs/index.pyx\u001b[0m in \u001b[0;36mpandas._libs.index.IndexEngine.get_loc\u001b[0;34m()\u001b[0m\n",
      "\u001b[0;32mpandas/_libs/hashtable_class_helper.pxi\u001b[0m in \u001b[0;36mpandas._libs.hashtable.PyObjectHashTable.get_item\u001b[0;34m()\u001b[0m\n",
      "\u001b[0;32mpandas/_libs/hashtable_class_helper.pxi\u001b[0m in \u001b[0;36mpandas._libs.hashtable.PyObjectHashTable.get_item\u001b[0;34m()\u001b[0m\n",
      "\u001b[0;31mKeyError\u001b[0m: 'space1'"
     ]
    }
   ],
   "source": [
    "# Adding the DNA sequence from 5' to 3'\n",
    "\n",
    "## Constant 5' primer sequence\n",
    "tf_df_all['Primer1_seq'] = background[0:17]\n",
    "\n",
    "## TF motif#1 - find an unbiased way to select motifs (only high-quality data, threshold frequencies, otherwise assign random)\n",
    "tf_df_all['motif1'] = tf_df_all['Motif']\n",
    "\n",
    "# Spacer sequence between TF motifs (5, 10, 21 bp)\n",
    "tf_df_all['space1'][tf_df_all.spacings == '5bp'] = 'GC' + background[18] + 'AT'\n",
    "tf_df_all['space2'][tf_df_all.spacings == '10bp'] = 'GC' + background[18:23] + 'AT'\n",
    "tf_df_all['space3'][tf_df_all.spacings == '21bp'] = 'GC' + background[18:34] + 'AT'\n",
    "\n",
    "\n",
    "tf_df_all"
   ]
  },
  {
   "cell_type": "code",
   "execution_count": 3,
   "metadata": {},
   "outputs": [
    {
     "ename": "SyntaxError",
     "evalue": "invalid syntax (<ipython-input-3-7321350c26b9>, line 2)",
     "output_type": "error",
     "traceback": [
      "\u001b[0;36m  File \u001b[0;32m\"<ipython-input-3-7321350c26b9>\"\u001b[0;36m, line \u001b[0;32m2\u001b[0m\n\u001b[0;31m    tf.df$motif2 <- tf.df$Motif\u001b[0m\n\u001b[0m         ^\u001b[0m\n\u001b[0;31mSyntaxError\u001b[0m\u001b[0;31m:\u001b[0m invalid syntax\n"
     ]
    }
   ],
   "source": [
    "\n",
    "\n",
    "\n",
    "  \n",
    "# Do the same for the other 3 repeats\n",
    "tf.df$motif2 <- tf.df$Motif\n",
    "tf.df$Space2[tf.df$Spacing == \"5bp\"] <- paste(\"GC\", substr(background, 20, 20), \"AT\", sep = \"\")\n",
    "tf.df$Space2[tf.df$Spacing == \"10bp\"] <- paste(\"GC\", substr(background, 25, 30), \"AT\", sep = \"\")\n",
    "tf.df$Space2[tf.df$Spacing == \"21bp\"] <- paste(\"GC\", substr(background, 36, 52), \"AT\", sep = \"\")\n",
    "tf.df$motif3 <- tf.df$Motif\n",
    "tf.df$Space3[tf.df$Spacing == \"5bp\"] <- paste(\"GC\", substr(background, 21, 21), \"AT\", sep = \"\")\n",
    "tf.df$Space3[tf.df$Spacing == \"10bp\"] <- paste(\"GC\", substr(background, 31, 36), \"AT\", sep = \"\")\n",
    "tf.df$Space3[tf.df$Spacing == \"21bp\"] <- paste(\"GC\", substr(background, 37, 53), \"AT\", sep = \"\")\n",
    "tf.df$motif4 <- tf.df$Motif\n",
    "  \n",
    "# Sequence from last TF-motif to start of minimal promoter (10, 21, 21 incl. polyA)\n",
    "tf.df$Distance_seq[tf.df$Distance == \"10bp\" & tf.df$Spacing == \"5bp\"] <- paste(\"GC\", substr(background, 22, 29))\n",
    "tf.df$Distance_seq[tf.df$Distance == \"10bp\" & tf.df$Spacing == \"10bp\"] <- paste(\"GC\", substr(background, 32, 39))\n",
    "tf.df$Distance_seq[tf.df$Distance == \"10bp\" & tf.df$Spacing == \"21bp\"] <- paste(\"GC\", substr(background, 38, 45))\n",
    "tf.df$Distance_seq[tf.df$Distance == \"21bp\" & tf.df$Spacing == \"5bp\"] <- paste(\"GC\", substr(background, 22, 40))\n",
    "tf.df$Distance_seq[tf.df$Distance == \"21bp\" & tf.df$Spacing == \"10bp\"] <- paste(\"GC\", substr(background, 32, 50))\n",
    "tf.df$Distance_seq[tf.df$Distance == \"21bp\" & tf.df$Spacing == \"21bp\"] <- paste(\"GC\", substr(background, 38, 56))\n",
    "tf.df$Distance_seq[tf.df$Distance == \"21bp+AA\" & tf.df$Spacing == \"5bp\"] <- paste(\"GC\", substr(background, 22, 25), \"AAAAAAAAAAAAAAA\")\n",
    "tf.df$Distance_seq[tf.df$Distance == \"21bp+AA\" & tf.df$Spacing == \"10bp\"] <- paste(\"GC\", substr(background, 32, 35), \"AAAAAAAAAAAAAAA\")\n",
    "tf.df$Distance_seq[tf.df$Distance == \"21bp+AA\" & tf.df$Spacing == \"21bp\"] <- paste(\"GC\", substr(background, 38, 41), \"AAAAAAAAAAAAAAA\")\n",
    "\n",
    "# Minimal promoter\n",
    "tf.df$Promoter_sequence <- \"TAGAGGGTATATAATGGAAGCTCGACTTCCAG\"\n",
    "tf.df$Promoter_sequence[tf.df$Promoter == \"mCMV\"] <- \"GGCGTTTACTATGGGAGGTCTATATAAGCAGAGCTCGTTTAGTGAACCGTCAGATC\"\n",
    "tf.df$Promoter_sequence[tf.df$Promoter == \"hBGm\"] <- \"GGGCTGGGCATAAAAGTCAGGGCAGAGCCATCTATTGCTTACATTTGCTTCT\"\n",
    "\n",
    "# S1 Illumina adapter\n",
    "tf.df$S1_primer <- \"CACGACGCTCTTCCGATCT\"\n",
    "\n",
    "# Adding the barcodes\n",
    "# Remove barcodes with EcoRI & NheI sites first\n",
    "barcode.list <- as.data.frame(barcode.list)\n",
    "barcode.list <- barcode.list[-grep(\"GAATTC|GCTAGC\",barcode.list$barcode.list),]\n",
    "#Randomizing barcodes\n",
    "set.seed(123)\n",
    "barcode.list <- sample(barcode.list)\n",
    "tf.df$barcode <- barcode.list[1:nrow(tf.df)]\n",
    "\n",
    "# 3' Primer sequence\n",
    "tf.df$Primer2_seq <- \"GTGTATCCTCTGTCCAGC\""
   ]
  },
  {
   "cell_type": "code",
   "execution_count": 4,
   "metadata": {},
   "outputs": [
    {
     "data": {
      "text/plain": [
       "'/DATA/usr/m.trauernicht/projects/tf_activity_reporter/Oligo_Design/MPRA-30-TFs'"
      ]
     },
     "execution_count": 4,
     "metadata": {},
     "output_type": "execute_result"
    }
   ],
   "source": [
    "import os\n",
    "os.getcwd()"
   ]
  },
  {
   "cell_type": "code",
   "execution_count": null,
   "metadata": {},
   "outputs": [],
   "source": []
  }
 ],
 "metadata": {
  "kernelspec": {
   "display_name": "Python 3",
   "language": "python",
   "name": "python3"
  },
  "language_info": {
   "codemirror_mode": {
    "name": "ipython",
    "version": 3
   },
   "file_extension": ".py",
   "mimetype": "text/x-python",
   "name": "python",
   "nbconvert_exporter": "python",
   "pygments_lexer": "ipython3",
   "version": "3.7.6"
  }
 },
 "nbformat": 4,
 "nbformat_minor": 2
}
